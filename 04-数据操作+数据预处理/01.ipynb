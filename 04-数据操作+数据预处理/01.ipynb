{
 "cells": [
  {
   "cell_type": "code",
   "execution_count": null,
   "metadata": {},
   "outputs": [],
   "source": [
    "import torch\n",
    "\n",
    "# 1.张量的创建\n",
    "\n",
    "t = torch.ones(4) # ones 函数创建一个具有指定形状的新张量，并将所有元素值设置为1\n",
    "print('t:',t)"
   ]
  },
  {
   "cell_type": "code",
   "execution_count": null,
   "metadata": {},
   "outputs": [],
   "source": [
    "x = torch.arange(12)\n",
    "print('x:',x)\n",
    "print('x shape:',x.shape) # 访问向量的形状"
   ]
  },
  {
   "cell_type": "code",
   "execution_count": null,
   "metadata": {},
   "outputs": [],
   "source": [
    "y = x.reshape(3,4) # 改变一个张量的形状而不改变元素数量和元素值\n",
    "print('y:',y)\n",
    "print('y.numel():',y.numel()) # 返回张量中元素的总个数"
   ]
  },
  {
   "cell_type": "code",
   "execution_count": null,
   "metadata": {},
   "outputs": [],
   "source": [
    "z = torch.zeros(2,3,4) # 创建一个张量，其中所有元素都设置为0  两层3x4矩阵\n",
    "print('z:',z)"
   ]
  },
  {
   "cell_type": "code",
   "execution_count": null,
   "metadata": {},
   "outputs": [],
   "source": [
    "w = torch.randn(2,3,4) # 每个元素都从均值为0、标准差为1的标准高斯（正态）分布中随机采样\n",
    "print('w:',w)"
   ]
  },
  {
   "cell_type": "code",
   "execution_count": null,
   "metadata": {},
   "outputs": [],
   "source": [
    "q = torch.tensor([[1,2,3],[4,5,6],[7,8,9]]) # 通过提供包含数值的python列表来为所需张量中的每个元素赋予确定值\n",
    "print('q:',q)"
   ]
  },
  {
   "cell_type": "code",
   "execution_count": null,
   "metadata": {},
   "outputs": [],
   "source": [
    "# 2.张量的运算\n",
    "\n",
    "x = torch.tensor([1.0,2,4,8])\n",
    "y = torch.tensor([2.0,2,2,2])\n",
    "print(x + y)\n",
    "print(x - y)\n",
    "print(x * y)\n",
    "print(x / y)\n",
    "print(x ** y)\n",
    "print(torch.exp(x))"
   ]
  },
  {
   "cell_type": "code",
   "execution_count": null,
   "metadata": {},
   "outputs": [],
   "source": [
    "X = torch.arange(12,dtype=torch.float32).reshape(3,4)\n",
    "Y = torch.tensor([[2.0,1,4,3],[1,2,3,4],[4,3,2,1]])\n",
    "print('cat操作 dim=0',torch.cat((X,Y),dim=0)) # 按行叠放，已形成更大的张量\n",
    "print('cat操作 dim=1',torch.cat((X,Y),dim=1)) # 按列叠放，已形成更大的张量"
   ]
  },
  {
   "cell_type": "code",
   "execution_count": null,
   "metadata": {},
   "outputs": [],
   "source": [
    "print('X == Y',X == Y) # 通过逻辑运算符构建二元张量\n",
    "print('X < Y',X < Y)\n",
    "print('张量所有元素的和：',X.sum()) # 张量所有元素的和"
   ]
  },
  {
   "cell_type": "code",
   "execution_count": null,
   "metadata": {},
   "outputs": [],
   "source": [
    "# 3.广播机制\n",
    "\n",
    "a = torch.arange(3).reshape(3,1)\n",
    "b = torch.arange(2).reshape(1,2)\n",
    "print('a:',a)\n",
    "print('b:',b)\n",
    "print('a + b:',a + b) # 神奇的广播运算"
   ]
  },
  {
   "cell_type": "code",
   "execution_count": null,
   "metadata": {},
   "outputs": [],
   "source": [
    "# 4.索引和切片\n",
    "\n",
    "X = torch.arange(12,dtype=torch.float32).reshape(3,4)\n",
    "print('X:',X)\n",
    "print('X[-1]:',X[-1]) # 最后一个元素，这里指的是一行\n",
    "print('X[1:3]:',X[1:3]) # 选择第二个和第三个元素，这里指第二行和第三行"
   ]
  },
  {
   "cell_type": "code",
   "execution_count": null,
   "metadata": {},
   "outputs": [],
   "source": [
    "X[1,2] = 9 # 第2行第三列改变元素为9\n",
    "print('X:',X)"
   ]
  },
  {
   "cell_type": "code",
   "execution_count": null,
   "metadata": {},
   "outputs": [],
   "source": [
    "X[0:2,:] = 12 # 从第0行到第1行，从第0列到最后改变元素为12\n",
    "print('X:',X)"
   ]
  },
  {
   "cell_type": "code",
   "execution_count": null,
   "metadata": {},
   "outputs": [],
   "source": [
    "# 5.节约内存\n",
    "before = id(Y) # id函数提供了内存中引用对象的确切地址\n",
    "Y = Y + X\n",
    "print(id(Y) == before)"
   ]
  },
  {
   "cell_type": "code",
   "execution_count": null,
   "metadata": {},
   "outputs": [],
   "source": [
    "before = id(X)\n",
    "X += Y\n",
    "print(id(X) == before)"
   ]
  },
  {
   "cell_type": "code",
   "execution_count": null,
   "metadata": {},
   "outputs": [],
   "source": [
    "before = id(X)\n",
    "X[:] = X + Y\n",
    "print(id(X) == before) # 使用X[:] = X + Y 或 X += Y来减少操作的内存开销"
   ]
  },
  {
   "cell_type": "code",
   "execution_count": null,
   "metadata": {},
   "outputs": [],
   "source": [
    "# 6.转换为其他python对象\n",
    "\n",
    "Y = torch.tensor([[2.0,1,4,3],[1,2,3,4],[4,3,2,1]])\n",
    "A = Y.numpy()\n",
    "print(type(A)) # 打印A的类型\n",
    "print(A)\n",
    "B = torch.tensor(A)\n",
    "print(type(B)) # 打印B的类型\n",
    "print(B)"
   ]
  },
  {
   "cell_type": "code",
   "execution_count": null,
   "metadata": {},
   "outputs": [],
   "source": [
    "a = torch.tensor([3.5])\n",
    "print(a,a.item(),float(a),int(a))"
   ]
  }
 ],
 "metadata": {
  "kernelspec": {
   "display_name": "FL2",
   "language": "python",
   "name": "python3"
  },
  "language_info": {
   "codemirror_mode": {
    "name": "ipython",
    "version": 3
   },
   "file_extension": ".py",
   "mimetype": "text/x-python",
   "name": "python",
   "nbconvert_exporter": "python",
   "pygments_lexer": "ipython3",
   "version": "3.7.16"
  },
  "orig_nbformat": 4
 },
 "nbformat": 4,
 "nbformat_minor": 2
}
