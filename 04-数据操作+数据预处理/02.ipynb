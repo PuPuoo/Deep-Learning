{
 "cells": [
  {
   "cell_type": "code",
   "execution_count": null,
   "metadata": {},
   "outputs": [],
   "source": [
    "import os\n",
    "import pandas as pd \n",
    "import torch\n",
    "\n",
    "os.makedirs(os.path.join('..','data'),exist_ok=True) # 在上级目录创建data文件夹\n",
    "data_file = os.path.join('..','data','house_tinyy.csv') # 创建文件\n",
    "with open(data_file,'w') as f: # 往文件中写数据\n",
    "    f.write('NumRooms,Alley,Price\\n') # 列名\n",
    "    f.write('NA,Pave,127500\\n') # 第一行的值\n",
    "    f.write('2,NA,106000\\n') # 第二行的值\n",
    "    f.write('4,NA,178100\\n') # 第三行的值\n",
    "    f.write('NA,NA,140000\\n') # 第四行的值\n",
    "\n",
    "data = pd.read_csv(data_file) # 可以看到原始表格中的空值NA被识别成了NAN\n",
    "print('1.原始数据：\\n',data)"
   ]
  },
  {
   "cell_type": "code",
   "execution_count": null,
   "metadata": {},
   "outputs": [],
   "source": [
    "inputs, outputs = data.iloc[:,0:2], data.iloc[:, 2]\n",
    "inputs = inputs.fillna(inputs.mean()) # 用均值填充NAN\n",
    "print(inputs)\n",
    "print(outputs)"
   ]
  },
  {
   "cell_type": "code",
   "execution_count": null,
   "metadata": {},
   "outputs": [],
   "source": [
    "# 利用pandas中的get_dummies函数来处理离散值或者类别值\n",
    "# 对于inputs中的类别值或离散值，我们将“NaN”视为⼀个类别。由于“巷⼦类型”（“Alley”）列只接受两\n",
    "# 种类型的类别值“Pave”和“NaN”，pandas可以⾃动将此列转换为两列“Alley_Pave”和“Alley_nan”。巷\n",
    "# ⼦类型为“Pave”的⾏会将“Alley_Pave”的值设置为1，“Alley_nan”的值设置为0。缺少巷⼦类型的⾏会\n",
    "# 将“Alley_Pave”和“Alley_nan”分别设置为0和1。\n",
    "inputs = pd.get_dummies(inputs, dummy_na=True)\n",
    "print('2.利用pandas中的get_dummies函数处理:\\n', inputs)"
   ]
  },
  {
   "cell_type": "code",
   "execution_count": null,
   "metadata": {},
   "outputs": [],
   "source": [
    "x,y = torch.tensor(inputs.values),torch.tensor(outputs.values)\n",
    "print('3.转换为张量:')\n",
    "print(x)\n",
    "print(y)"
   ]
  }
 ],
 "metadata": {
  "kernelspec": {
   "display_name": "FL2",
   "language": "python",
   "name": "python3"
  },
  "language_info": {
   "codemirror_mode": {
    "name": "ipython",
    "version": 3
   },
   "file_extension": ".py",
   "mimetype": "text/x-python",
   "name": "python",
   "nbconvert_exporter": "python",
   "pygments_lexer": "ipython3",
   "version": "3.7.16"
  },
  "orig_nbformat": 4
 },
 "nbformat": 4,
 "nbformat_minor": 2
}
