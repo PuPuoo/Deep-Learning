{
 "cells": [
  {
   "cell_type": "code",
   "execution_count": 1,
   "metadata": {},
   "outputs": [
    {
     "name": "stdout",
     "output_type": "stream",
     "text": [
      "tensor([5.]) tensor([6.]) tensor([1.5000]) tensor([9.])\n"
     ]
    }
   ],
   "source": [
    "import torch\n",
    "\n",
    "# 1. 标量与变量\n",
    "\n",
    "x = torch.tensor([3.0])\n",
    "y = torch.tensor([2.0])\n",
    "print(x + y, x * y,x / y,x ** y)"
   ]
  },
  {
   "cell_type": "code",
   "execution_count": 2,
   "metadata": {},
   "outputs": [
    {
     "name": "stdout",
     "output_type": "stream",
     "text": [
      "x: tensor([0, 1, 2, 3])\n",
      "x[3]: tensor(3)\n",
      "张量的形状: torch.Size([4])\n",
      "张量的长度: 4\n",
      "三维张量的长度: 2\n"
     ]
    }
   ],
   "source": [
    "# 2.向量\n",
    "\n",
    "x = torch.arange(4)\n",
    "print('x:',x)\n",
    "print('x[3]:',x[3]) # 通过张量的索引来访问任一元素\n",
    "print('张量的形状:',x.shape) # 张量的形状\n",
    "print('张量的长度:',len(x)) # 张量的长度\n",
    "z = torch.arange(24).reshape(2,3,4)\n",
    "print('三维张量的长度:',len(z))"
   ]
  },
  {
   "cell_type": "code",
   "execution_count": 4,
   "metadata": {},
   "outputs": [
    {
     "name": "stdout",
     "output_type": "stream",
     "text": [
      "A: tensor([[ 0,  1,  2,  3],\n",
      "        [ 4,  5,  6,  7],\n",
      "        [ 8,  9, 10, 11],\n",
      "        [12, 13, 14, 15],\n",
      "        [16, 17, 18, 19]])\n",
      "A.shape: torch.Size([5, 4])\n",
      "A.shape[-1]: 4\n",
      "A.T: tensor([[ 0,  4,  8, 12, 16],\n",
      "        [ 1,  5,  9, 13, 17],\n",
      "        [ 2,  6, 10, 14, 18],\n",
      "        [ 3,  7, 11, 15, 19]])\n"
     ]
    }
   ],
   "source": [
    "# 3.矩阵\n",
    "A = torch.arange(20).reshape(5,4)\n",
    "print('A:',A)\n",
    "print('A.shape:',A.shape)\n",
    "print('A.shape[-1]:',A.shape[-1])\n",
    "print('A.T:',torch.transpose(A, 0, 1)) # 矩阵的转置"
   ]
  },
  {
   "cell_type": "code",
   "execution_count": 5,
   "metadata": {},
   "outputs": [
    {
     "name": "stdout",
     "output_type": "stream",
     "text": [
      "A: tensor([[ 0.,  1.,  2.,  3.],\n",
      "        [ 4.,  5.,  6.,  7.],\n",
      "        [ 8.,  9., 10., 11.],\n",
      "        [12., 13., 14., 15.],\n",
      "        [16., 17., 18., 19.]])\n",
      "B: tensor([[ 0.,  1.,  2.,  3.],\n",
      "        [ 4.,  5.,  6.,  7.],\n",
      "        [ 8.,  9., 10., 11.],\n",
      "        [12., 13., 14., 15.],\n",
      "        [16., 17., 18., 19.]])\n",
      "A + B: tensor([[ 0.,  2.,  4.,  6.],\n",
      "        [ 8., 10., 12., 14.],\n",
      "        [16., 18., 20., 22.],\n",
      "        [24., 26., 28., 30.],\n",
      "        [32., 34., 36., 38.]])\n",
      "A * B: tensor([[  0.,   1.,   4.,   9.],\n",
      "        [ 16.,  25.,  36.,  49.],\n",
      "        [ 64.,  81., 100., 121.],\n",
      "        [144., 169., 196., 225.],\n",
      "        [256., 289., 324., 361.]])\n"
     ]
    }
   ],
   "source": [
    "# 4.矩阵的计算\n",
    "\n",
    "A = torch.arange(20,dtype=torch.float32).reshape(5,4)\n",
    "B = A.clone() # 通过分配新内存，将A的一个副本分配给B\n",
    "print('A:',A)\n",
    "print('B:',B)\n",
    "print('A + B:',A + B) # 矩阵相加\n",
    "print('A * B:',A * B) # 矩阵相乘"
   ]
  },
  {
   "cell_type": "code",
   "execution_count": 6,
   "metadata": {},
   "outputs": [
    {
     "name": "stdout",
     "output_type": "stream",
     "text": [
      "X: tensor([[[ 0,  1,  2,  3],\n",
      "         [ 4,  5,  6,  7],\n",
      "         [ 8,  9, 10, 11]],\n",
      "\n",
      "        [[12, 13, 14, 15],\n",
      "         [16, 17, 18, 19],\n",
      "         [20, 21, 22, 23]]])\n",
      "a + X: tensor([[[ 2,  3,  4,  5],\n",
      "         [ 6,  7,  8,  9],\n",
      "         [10, 11, 12, 13]],\n",
      "\n",
      "        [[14, 15, 16, 17],\n",
      "         [18, 19, 20, 21],\n",
      "         [22, 23, 24, 25]]])\n",
      "a * X: tensor([[[ 0,  2,  4,  6],\n",
      "         [ 8, 10, 12, 14],\n",
      "         [16, 18, 20, 22]],\n",
      "\n",
      "        [[24, 26, 28, 30],\n",
      "         [32, 34, 36, 38],\n",
      "         [40, 42, 44, 46]]])\n",
      "torch.Size([2, 3, 4])\n"
     ]
    }
   ],
   "source": [
    "a = 2\n",
    "X = torch.arange(24).reshape(2,3,4)\n",
    "print('X:',X)\n",
    "print('a + X:',a + X) # 矩阵的值加上标量\n",
    "print('a * X:',a * X) # 矩阵的值乘以标量\n",
    "print((a * X).shape)"
   ]
  },
  {
   "cell_type": "code",
   "execution_count": null,
   "metadata": {},
   "outputs": [],
   "source": [
    "# 5.矩阵的sum运算\n",
    "print('A:',A)\n",
    "print('A.shape:',A.shape)\n",
    "print('A.sum():',A.sum())\n",
    "print('A.sum(axis=0)',A.sum(axis=0)) # 沿0轴汇总已生成输出向量(行汇总)\n",
    "print('A.sum(axis=1)',A.sum(axis=1)) # 沿1轴汇总已生成输出向量(列汇总)\n",
    "print('A.sum(axis=1, keepdims=True)',A.sum(axis=1, keepdims=True)) # shape由[5,4]变为[5,1]\n",
    "print('A.sum(axis=[0,1]):',A.sum(axis=[0,1])) # 与sum一样\n",
    "print('A.mean():',A.mean()) # 求均值\n",
    "print('A.sum() / A.numel():',A.sum() / A.numel()) # 求均值"
   ]
  },
  {
   "cell_type": "code",
   "execution_count": 8,
   "metadata": {},
   "outputs": [
    {
     "name": "stdout",
     "output_type": "stream",
     "text": [
      "x: tensor([0., 1., 2., 3.])\n",
      "y: tensor([1., 1., 1., 1.])\n",
      "向量-向量点积: tensor(6.)\n"
     ]
    }
   ],
   "source": [
    "# 6.向量-向量相乘(点积)\n",
    "\n",
    "x = torch.arange(4,dtype=torch.float32)\n",
    "y = torch.ones(4,dtype=torch.float32)\n",
    "print('x:',x)\n",
    "print('y:',y)\n",
    "print('向量-向量点积:',torch.dot(x,y))"
   ]
  },
  {
   "cell_type": "code",
   "execution_count": 9,
   "metadata": {},
   "outputs": [
    {
     "name": "stdout",
     "output_type": "stream",
     "text": [
      "A: tensor([[ 0.,  1.,  2.,  3.],\n",
      "        [ 4.,  5.,  6.,  7.],\n",
      "        [ 8.,  9., 10., 11.],\n",
      "        [12., 13., 14., 15.],\n",
      "        [16., 17., 18., 19.]])\n",
      "x: tensor([0., 1., 2., 3.])\n",
      "torch.mv(A,x): tensor([ 14.,  38.,  62.,  86., 110.])\n",
      "torch.mv(A,x).shape: torch.Size([5])\n"
     ]
    }
   ],
   "source": [
    "# 7.矩阵-向量相乘(向量积)\n",
    "\n",
    "print('A:',A) # 5*4维\n",
    "print('x:',x) # 4*1维\n",
    "print('torch.mv(A,x):',torch.mv(A,x))\n",
    "print('torch.mv(A,x).shape:',torch.mv(A,x).shape)"
   ]
  },
  {
   "cell_type": "code",
   "execution_count": 10,
   "metadata": {},
   "outputs": [
    {
     "name": "stdout",
     "output_type": "stream",
     "text": [
      "A: tensor([[ 0.,  1.,  2.,  3.],\n",
      "        [ 4.,  5.,  6.,  7.],\n",
      "        [ 8.,  9., 10., 11.],\n",
      "        [12., 13., 14., 15.],\n",
      "        [16., 17., 18., 19.]])\n",
      "B: tensor([[1., 1., 1.],\n",
      "        [1., 1., 1.],\n",
      "        [1., 1., 1.],\n",
      "        [1., 1., 1.]])\n",
      "torch.mm(A,B): tensor([[ 6.,  6.,  6.],\n",
      "        [22., 22., 22.],\n",
      "        [38., 38., 38.],\n",
      "        [54., 54., 54.],\n",
      "        [70., 70., 70.]])\n"
     ]
    }
   ],
   "source": [
    "# 8.矩阵-矩阵相乘(向量积)\n",
    "\n",
    "print('A:',A) # 5*4维\n",
    "B = torch.ones(4,3) # 4*3维\n",
    "print('B:',B)\n",
    "print('torch.mm(A,B):',torch.mm(A,B))"
   ]
  },
  {
   "cell_type": "code",
   "execution_count": 11,
   "metadata": {},
   "outputs": [
    {
     "name": "stdout",
     "output_type": "stream",
     "text": [
      "向量的L2范数: tensor(5.)\n",
      "向量的L1范数: tensor(7.)\n",
      "v: tensor([[1., 1., 1., 1., 1., 1., 1., 1., 1.],\n",
      "        [1., 1., 1., 1., 1., 1., 1., 1., 1.],\n",
      "        [1., 1., 1., 1., 1., 1., 1., 1., 1.],\n",
      "        [1., 1., 1., 1., 1., 1., 1., 1., 1.]])\n",
      "矩阵的Frobenius范数: tensor(6.)\n"
     ]
    }
   ],
   "source": [
    "# 9.范数\n",
    "u = torch.tensor([3.0,-4.0])\n",
    "print('向量的L2范数:',torch.norm(u)) # 向量的L2范数\n",
    "print('向量的L1范数:',torch.abs(u).sum()) # 向量的L1范数\n",
    "v = torch.ones((4,9))\n",
    "print('v:',v)\n",
    "print('矩阵的Frobenius范数:',torch.norm(v))"
   ]
  }
 ],
 "metadata": {
  "kernelspec": {
   "display_name": "FL2",
   "language": "python",
   "name": "python3"
  },
  "language_info": {
   "codemirror_mode": {
    "name": "ipython",
    "version": 3
   },
   "file_extension": ".py",
   "mimetype": "text/x-python",
   "name": "python",
   "nbconvert_exporter": "python",
   "pygments_lexer": "ipython3",
   "version": "3.7.16"
  },
  "orig_nbformat": 4
 },
 "nbformat": 4,
 "nbformat_minor": 2
}
