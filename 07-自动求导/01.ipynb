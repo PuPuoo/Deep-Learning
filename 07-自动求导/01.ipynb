{
 "cells": [
  {
   "cell_type": "code",
   "execution_count": 1,
   "metadata": {},
   "outputs": [
    {
     "name": "stdout",
     "output_type": "stream",
     "text": [
      "x: tensor([0., 1., 2., 3.], requires_grad=True)\n",
      "x.grad: None\n"
     ]
    }
   ],
   "source": [
    "import torch\n",
    "\n",
    "# 1.一个简单的例子\n",
    "\n",
    "# x = torch.arange(4.0)\n",
    "# print('x:',x)\n",
    "# x.requires_grad_(True) # 需要存储梯度\n",
    "x = torch.arange(4.0,requires_grad=True) # 以上等价于这个 将梯度附加到想要对其计算偏导数的变量上\n",
    "print('x:',x)\n",
    "print('x.grad:',x.grad) # 默认是None"
   ]
  },
  {
   "cell_type": "code",
   "execution_count": 2,
   "metadata": {},
   "outputs": [
    {
     "name": "stdout",
     "output_type": "stream",
     "text": [
      "y: tensor(28., grad_fn=<MulBackward>)\n",
      "x.grad: tensor([ 0.,  4.,  8., 12.])\n",
      "tensor([1, 1, 1, 1], dtype=torch.uint8)\n"
     ]
    }
   ],
   "source": [
    "y = 2 * torch.dot(x,x)\n",
    "print('y:',y) # y为标量\n",
    "y.backward() # 通过调用反向传播函数来自动计算y关于x每个分量的梯度\n",
    "print('x.grad:',x.grad)\n",
    "print(x.grad == 4 * x) # 验证"
   ]
  },
  {
   "cell_type": "code",
   "execution_count": 3,
   "metadata": {},
   "outputs": [
    {
     "name": "stdout",
     "output_type": "stream",
     "text": [
      "x.grad: tensor([0., 0., 0., 0.])\n",
      "y: tensor(6., grad_fn=<SumBackward0>)\n",
      "x.grad: tensor([1., 1., 1., 1.])\n"
     ]
    }
   ],
   "source": [
    "# 在默认情况下，pytorch会累积梯度，我们需要清除之前的值\n",
    "x.grad.zero_()  # 清除梯度值\n",
    "print('x.grad:',x.grad)\n",
    "y = x.sum()\n",
    "print('y:',y)\n",
    "y.backward()\n",
    "print('x.grad:',x.grad)"
   ]
  },
  {
   "cell_type": "code",
   "execution_count": 4,
   "metadata": {},
   "outputs": [
    {
     "name": "stdout",
     "output_type": "stream",
     "text": [
      "y: tensor([0., 1., 4., 9.], grad_fn=<ThMulBackward>)\n",
      "y.sum(): tensor(14., grad_fn=<SumBackward0>)\n",
      "x.grad: tensor([0., 2., 4., 6.])\n"
     ]
    }
   ],
   "source": [
    "# 2.非标量变量的反向传播\n",
    "\n",
    "x.grad.zero_()\n",
    "y = x * x\n",
    "print('y:',y)\n",
    "print('y.sum():',y.sum())\n",
    "y.sum().backward() # sum():相当于我们在不影响求导结果的前提下，对原来的表达式做了适当的变换，使其计算结果成为了一个标量，再使用这个变换了的表达式对张量里的每一项进行求导。\n",
    "print('x.grad:',x.grad)"
   ]
  },
  {
   "cell_type": "code",
   "execution_count": 5,
   "metadata": {},
   "outputs": [
    {
     "name": "stdout",
     "output_type": "stream",
     "text": [
      "y: tensor([0., 1., 4., 9.], grad_fn=<ThMulBackward>)\n",
      "z: tensor([ 0.,  1.,  8., 27.], grad_fn=<ThMulBackward>)\n",
      "x.grad: tensor([0., 1., 4., 9.])\n",
      "tensor([1, 1, 1, 1], dtype=torch.uint8)\n"
     ]
    }
   ],
   "source": [
    "# 3.分离计算\n",
    "\n",
    "x.grad.zero_()\n",
    "y = x * x\n",
    "print('y:',y)\n",
    "u = y.detach() # 将u作为常数处理\n",
    "z = u * x \n",
    "print('z:',z)\n",
    "z.sum().backward() # 将u作为常数处理 而不是z = x * x * x关于x的偏导数\n",
    "print('x.grad:',x.grad)\n",
    "print(x.grad == u)"
   ]
  },
  {
   "cell_type": "code",
   "execution_count": 6,
   "metadata": {},
   "outputs": [
    {
     "name": "stdout",
     "output_type": "stream",
     "text": [
      "tensor([1, 1, 1, 1], dtype=torch.uint8)\n"
     ]
    }
   ],
   "source": [
    "x.grad.zero_()\n",
    "y = x * x * x\n",
    "y.sum().backward()\n",
    "print(x.grad == 3*x*x)"
   ]
  },
  {
   "cell_type": "code",
   "execution_count": null,
   "metadata": {},
   "outputs": [],
   "source": [
    "# 小结\n",
    "'''\n",
    "    深度学习框架可以自动计算导数：我们首先将梯度附加到想要对其计算偏导数的变量上，然后记录目标值的计算，执行它的反向传播函数，并访问得到的梯度\n",
    "'''"
   ]
  }
 ],
 "metadata": {
  "kernelspec": {
   "display_name": "FL2",
   "language": "python",
   "name": "python3"
  },
  "language_info": {
   "codemirror_mode": {
    "name": "ipython",
    "version": 3
   },
   "file_extension": ".py",
   "mimetype": "text/x-python",
   "name": "python",
   "nbconvert_exporter": "python",
   "pygments_lexer": "ipython3",
   "version": "3.7.16"
  },
  "orig_nbformat": 4
 },
 "nbformat": 4,
 "nbformat_minor": 2
}
