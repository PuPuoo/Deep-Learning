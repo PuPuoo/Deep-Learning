{
 "cells": [
  {
   "cell_type": "code",
   "execution_count": null,
   "metadata": {},
   "outputs": [],
   "source": [
    "import matplotlib.pyplot as plt\n",
    "import random\n",
    "import torch\n",
    "from d2l import torch as d2l\n",
    "\n",
    "import numpy as np\n",
    "\n",
    "import os ; os. environ[\"KMP_DUPLICATE_LIB_OK\"]=\"TRUE\"\n",
    "\n",
    "# 1.生成数据集\n",
    "\n",
    "'''\n",
    "description: 根据带有噪声的线性模型构造一个人造数据集\n",
    "param {*} w\n",
    "param {*} b\n",
    "param {*} num_examples\n",
    "return {*}\n",
    "'''\n",
    "def synthetic_data(w, b, num_examples):\n",
    "    \"\"\" 生成y = Xw + b + 噪声 \"\"\"\n",
    "    X = torch.tensor(np.random.normal(0, 1, size=(num_examples, len(w))), dtype=torch.float32)\n",
    "    y = torch.matmul(X,w) + b\n",
    "    y += torch.tensor(np.random.normal(0, 0.01, size=y.size()), dtype=torch.float32)\n",
    "    return X, y.reshape((-1,1))"
   ]
  },
  {
   "cell_type": "code",
   "execution_count": null,
   "metadata": {},
   "outputs": [],
   "source": [
    "true_w = torch.tensor([2,-3.4])\n",
    "true_b = 4.2\n",
    "features, labels = synthetic_data(true_w,true_b,1000) # features中的每⼀⾏都包含⼀个⼆维数据样本，labels中的每⼀⾏都包含⼀维标签值（⼀个标量）\n",
    "print('features:',features[0],'\\nlabel:',labels[0])"
   ]
  },
  {
   "cell_type": "code",
   "execution_count": null,
   "metadata": {},
   "outputs": [],
   "source": [
    "# 通过⽣成第⼆个特征features[:, 1]和labels的散点图，可以直观观察到两者之间的线性关系\n",
    "d2l.set_figsize()\n",
    "d2l.plt.scatter(features[:,1].detach().numpy(),labels.detach().numpy(),1)\n",
    "# plt.show() # 绘图"
   ]
  },
  {
   "cell_type": "code",
   "execution_count": null,
   "metadata": {},
   "outputs": [],
   "source": [
    "# 2.读取数据集\n",
    "\n",
    "# 训练模型时要对数据集进⾏遍历，每次抽取⼀⼩批量样本，并使⽤它们来更新我们的模型\n",
    "'''\n",
    "description: ⽣成⼤⼩为batch_size的⼩批量,每个⼩批量包含⼀组特征和标签\n",
    "param {*} batch_size 接收批量大小\n",
    "param {*} features 特征矩阵\n",
    "param {*} labels 标签向量\n",
    "return {*}\n",
    "'''\n",
    "def data_iter(batch_size, features, labels):\n",
    "    num_examples = len(features)\n",
    "    indices = list(range(num_examples)) # 这些样本是随机读取的，没有特定的顺序\n",
    "    random.shuffle(indices)\n",
    "    for i in range(0, num_examples, batch_size):\n",
    "        batch_indices = torch.tensor(\n",
    "            indices[i: min(i + batch_size, num_examples)]\n",
    "        )\n",
    "        yield features[batch_indices], labels[batch_indices]\n",
    "\n",
    "# 读取第⼀个⼩批量数据样本并打印。每个批量的特征维度显⽰批量⼤⼩和输⼊特征数。同样的，批量的标签形状与batch_size相等\n",
    "batch_size = 10\n",
    "for X, y in data_iter(batch_size, features, labels):\n",
    "    print(X, '\\n',y)\n",
    "    break"
   ]
  },
  {
   "cell_type": "code",
   "execution_count": null,
   "metadata": {},
   "outputs": [],
   "source": [
    "# 3.初始化模型参数\n",
    "\n",
    "w = torch.tensor(np.random.normal(0, 0.01, size=(2, 1)), dtype=torch.float32, requires_grad=True)\n",
    "b = torch.zeros(1, requires_grad=True) # 每次更新都需要计算损失函数关于模型参数的梯度。有了这个梯度，我们就可以向减⼩损失的⽅向更新每个参数"
   ]
  },
  {
   "cell_type": "code",
   "execution_count": null,
   "metadata": {},
   "outputs": [],
   "source": [
    "# 4.定义模型\n",
    "\n",
    "'''\n",
    "description: 定义模型\n",
    "param {*} X\n",
    "param {*} w\n",
    "param {*} b\n",
    "return {*}\n",
    "'''\n",
    "def linreg(X, w, b):\n",
    "    \"\"\" 线性回归模型 \"\"\"\n",
    "    return torch.matmul(X, w) + b # 注意，上⾯的Xw是⼀个向量,当我们⽤⼀个向量加⼀个标量时,标量会被加到向量的每个分量上"
   ]
  },
  {
   "cell_type": "code",
   "execution_count": null,
   "metadata": {},
   "outputs": [],
   "source": [
    "# 5.定义损失函数\n",
    "\n",
    "'''\n",
    "description: 定义损失函数\n",
    "param {*} y_hat\n",
    "param {*} y\n",
    "return {*}\n",
    "'''\n",
    "def squared_loss(y_hat, y):\n",
    "    \"\"\" 均方损失 \"\"\"\n",
    "    return (y_hat - y.reshape(y_hat.shape)) ** 2 / 2"
   ]
  },
  {
   "cell_type": "code",
   "execution_count": null,
   "metadata": {},
   "outputs": [],
   "source": [
    "# 6.定义优化算法\n",
    "\n",
    "'''\n",
    "description: 定义优化算法\n",
    "param {*} params 参数集合\n",
    "param {*} lr 学习速率\n",
    "param {*} batch_size 批量大小\n",
    "return {*}\n",
    "'''\n",
    "def sgd(params, lr, batch_size):\n",
    "    \"\"\" 小批量随机梯度下降 \"\"\"\n",
    "    with torch.no_grad():\n",
    "        for param in params:\n",
    "            param -= lr * param.grad / batch_size\n",
    "            param.grad.zero_()"
   ]
  },
  {
   "cell_type": "code",
   "execution_count": null,
   "metadata": {},
   "outputs": [],
   "source": [
    "# 7.训练\n",
    "\n",
    "# 迭代周期个数num_epochs和学习率lr都是超参数\n",
    "lr = 0.03\n",
    "num_epochs = 3\n",
    "net = linreg # 线性回归模型\n",
    "loss = squared_loss # 计算损失函数\n",
    "\n",
    "for epoch in range(num_epochs):\n",
    "    for X, y in data_iter(batch_size, features, labels):\n",
    "        l = loss(net(X, w, b), y) # X和y的小批量损失\n",
    "        # 因为l形状是(batch_size,1)，⽽不是⼀个标量。l中的所有元素被加到⼀起\n",
    "        # 并以此计算关于[w,b]的梯度\n",
    "        l.sum().backward()\n",
    "        sgd([w, b], lr, batch_size) # 使用参数的梯度更新参数\n",
    "    with torch.no_grad():\n",
    "        train_l = loss(net(features, w, b), labels)\n",
    "        print(f'epoch {epoch + 1}, loss {float(train_l.mean()):.5f}') # 以f开头，包含的{}表达式在程序运行时会被表达式的值代替 “:f”的作用是以标准格式输出一个浮点数"
   ]
  },
  {
   "cell_type": "code",
   "execution_count": null,
   "metadata": {},
   "outputs": [],
   "source": [
    "print(f'w的估计误差:{true_w - w.reshape(true_w.shape)}')\n",
    "print(f'b的估计误差:{true_b - b}')"
   ]
  }
 ],
 "metadata": {
  "kernelspec": {
   "display_name": "FL2",
   "language": "python",
   "name": "python3"
  },
  "language_info": {
   "codemirror_mode": {
    "name": "ipython",
    "version": 3
   },
   "file_extension": ".py",
   "mimetype": "text/x-python",
   "name": "python",
   "nbconvert_exporter": "python",
   "pygments_lexer": "ipython3",
   "version": "3.7.16"
  },
  "orig_nbformat": 4
 },
 "nbformat": 4,
 "nbformat_minor": 2
}
