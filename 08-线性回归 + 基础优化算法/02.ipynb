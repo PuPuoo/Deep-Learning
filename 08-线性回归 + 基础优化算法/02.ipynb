{
 "cells": [
  {
   "cell_type": "code",
   "execution_count": 1,
   "metadata": {},
   "outputs": [],
   "source": [
    "import numpy as np\n",
    "import torch\n",
    "from torch.utils import data\n",
    "from d2l import torch as d2l\n",
    "\n",
    "# 1.生成数据集\n",
    "\n",
    "true_w = torch.tensor([2, -3.4])\n",
    "true_b = 4.2\n",
    "features, labels = d2l.synthetic_data(true_w, true_b, 1000)\n"
   ]
  },
  {
   "cell_type": "code",
   "execution_count": 2,
   "metadata": {},
   "outputs": [
    {
     "name": "stdout",
     "output_type": "stream",
     "text": [
      "[tensor([[-0.6111,  1.6721],\n",
      "        [-0.2478, -1.5209],\n",
      "        [ 0.9946,  0.0141],\n",
      "        [-1.3481, -2.3781],\n",
      "        [ 0.3476,  0.1170],\n",
      "        [-0.5451,  0.8344],\n",
      "        [-0.8055, -1.1815],\n",
      "        [ 0.2243, -1.2041],\n",
      "        [-0.4608, -0.4744],\n",
      "        [-1.0266, -0.1611]]), tensor([[-2.7176],\n",
      "        [ 8.8686],\n",
      "        [ 6.1453],\n",
      "        [ 9.6054],\n",
      "        [ 4.5030],\n",
      "        [ 0.2706],\n",
      "        [ 6.6198],\n",
      "        [ 8.7486],\n",
      "        [ 4.8885],\n",
      "        [ 2.6883]])]\n"
     ]
    }
   ],
   "source": [
    "# 2.读取数据集\n",
    "\n",
    "'''\n",
    "description: 我们可以调⽤框架中现有的API来读取数据。我们将features和labels作为API的参数传递,并通过数据迭代\n",
    "             器指定batch_size。此外,布尔值is_train表⽰是否希望数据迭代器对象在每个迭代周期内打乱数据。\n",
    "param {*} data_arrays\n",
    "param {*} batch_size\n",
    "param {*} is_train\n",
    "return {*}\n",
    "'''\n",
    "def load_array(data_arrays, batch_size, is_train=True):\n",
    "    \"\"\" 构造一个PyTorch数据迭代器 \"\"\"\n",
    "    dataset = data.TensorDataset(*data_arrays)\n",
    "    return data.DataLoader(dataset, batch_size, shuffle=is_train)\n",
    "\n",
    "batch_size = 10\n",
    "data_iter = load_array((features, labels), batch_size)\n",
    "# 这⾥我们使⽤iter构造Python迭代器，并使⽤next从迭代器中获取第⼀项\n",
    "print(next(iter(data_iter)))"
   ]
  },
  {
   "cell_type": "code",
   "execution_count": 3,
   "metadata": {},
   "outputs": [],
   "source": [
    "# 3.定义模型\n",
    "\n",
    "\"\"\" \n",
    "    我们⾸先定义⼀个模型变量net,它是⼀个Sequential类的实例。Sequential类将多个层串联在⼀起。\n",
    "    当给定输⼊数据时,Sequential实例将数据传⼊到第⼀层,然后将第⼀层的输出作为第⼆层的输⼊，以此类推。\n",
    "\"\"\"\n",
    "# nn是神经⽹络的缩写\n",
    "from torch import nn\n",
    "\n",
    "net = nn.Sequential(nn.Linear(2, 1)) # 我们将两个参数传递到nn.Linear中。第⼀个指定输⼊特征形状，即2，第⼆个指定输出特征形状，输出特征形状为单个标量，因此为1"
   ]
  },
  {
   "cell_type": "code",
   "execution_count": 4,
   "metadata": {},
   "outputs": [
    {
     "data": {
      "text/plain": [
       "tensor([0.])"
      ]
     },
     "execution_count": 4,
     "metadata": {},
     "output_type": "execute_result"
    }
   ],
   "source": [
    "# 4.初始化模型参数\n",
    "\n",
    "net[0].weight.data.normal_(0, 0.01) # net[0]选择⽹络中的第⼀个图层,然后使⽤weight.data和bias.data⽅法访问参数,使⽤替换⽅法normal_和fill_来重写参数值\n",
    "net[0].bias.data.fill_(0)"
   ]
  },
  {
   "cell_type": "code",
   "execution_count": 5,
   "metadata": {},
   "outputs": [],
   "source": [
    "# 5.定义损失函数\n",
    "\n",
    "loss = nn.MSELoss() # 计算均⽅误差使⽤的是MSELoss类，也称为平⽅L2范数。默认情况下，它返回所有样本损失的平均值"
   ]
  },
  {
   "cell_type": "code",
   "execution_count": 6,
   "metadata": {},
   "outputs": [],
   "source": [
    "# 6.定义优化算法\n",
    "\n",
    "trainer = torch.optim.SGD(net.parameters(), lr=0.03) # PyTorch在optim模块中实现了该算法的许多变种\n",
    "# 当我们实例化⼀个SGD实例时，我们要指定优化的参数（可通过net.parameters()从我们的模型中获得）以及优化算法所需的超参数字典。\n",
    "# ⼩批量随机梯度下降只需要设置lr值，这⾥设置为0.03"
   ]
  },
  {
   "cell_type": "code",
   "execution_count": 7,
   "metadata": {},
   "outputs": [
    {
     "name": "stdout",
     "output_type": "stream",
     "text": [
      "epoch 1, loss 0.000222\n",
      "epoch 2, loss 0.000098\n",
      "epoch 3, loss 0.000101\n"
     ]
    }
   ],
   "source": [
    "# 7.训练\n",
    "\n",
    "\"\"\"\n",
    "    对于每一个小批量，我们会进行以下步骤：\n",
    "    1. 通过调⽤net(X)⽣成预测并计算损失l（前向传播）\n",
    "    2. 通过进⾏反向传播来计算梯度\n",
    "    3. 通过调⽤优化器来更新模型参数\n",
    "\"\"\"\n",
    "num_epochs = 3\n",
    "for epoch in range(num_epochs):\n",
    "    for X, y in data_iter:\n",
    "        l = loss(net(X), y)\n",
    "        trainer.zero_grad()\n",
    "        l.backward() \n",
    "        trainer.step() # 更新参数 w和b，然后进行下一批次的训练\n",
    "    l = loss(net(features), labels)\n",
    "    print(f'epoch {epoch + 1}, loss {l:f}')"
   ]
  }
 ],
 "metadata": {
  "kernelspec": {
   "display_name": "FL2",
   "language": "python",
   "name": "python3"
  },
  "language_info": {
   "codemirror_mode": {
    "name": "ipython",
    "version": 3
   },
   "file_extension": ".py",
   "mimetype": "text/x-python",
   "name": "python",
   "nbconvert_exporter": "python",
   "pygments_lexer": "ipython3",
   "version": "3.8.5"
  },
  "orig_nbformat": 4
 },
 "nbformat": 4,
 "nbformat_minor": 2
}
